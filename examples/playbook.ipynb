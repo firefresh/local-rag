{
 "cells": [
  {
   "cell_type": "markdown",
   "id": "2a74231c-df99-461f-8cdc-ea17f808d717",
   "metadata": {},
   "source": [
    "# Get Started!\n",
    "You can run this project in various configurations. Review the README file for more information.\n",
    "\n",
    "Run this notebook when you first clone & configure the project to make sure your environment variable configuration is\n",
    "reasonable and the model is downloaded if needed."
   ]
  },
  {
   "cell_type": "markdown",
   "id": "e82e357b",
   "metadata": {},
   "source": [
    "## Index Documents\n",
    "To chat with your data, you have to first index your documents. \n",
    "\n",
    "Place files in the `data/documents` directory of this project or create host mounts into `/mnt/docs/` using AI Workbench. You can mount multiple directories into `/mnt/docs/` and they will all be indexed. Text files and PDFs work well.\n",
    "\n",
    "When you run the cell below documents will be hashed and processed. Documents that have already been processed will be skipped. Note, this process can a while.\n",
    "\n",
    "**Any time you add more documents or you want to refresh the index, you should come back and run this cell**"
   ]
  },
  {
   "cell_type": "code",
   "execution_count": 7,
   "id": "1cb4582d-ddcc-47e5-b45c-7ec24bada8d8",
   "metadata": {},
   "outputs": [
    {
     "data": {
      "application/vnd.jupyter.widget-view+json": {
       "model_id": "7d3f8f3ff3e64ae3bd0d1149aa3974b3",
       "version_major": 2,
       "version_minor": 0
      },
      "text/plain": [
       "  0%|          | 0/68 [00:00<?, ?it/s]"
      ]
     },
     "metadata": {},
     "output_type": "display_data"
    },
    {
     "name": "stdout",
     "output_type": "stream",
     "text": [
      "../data/documents/moorea/componentes-solucion-frontend.txt - processed.\n",
      "../data/documents/moorea/plugin-asignacion.txt - processed.\n",
      "../data/documents/moorea/moorea.txt - processed.\n",
      "../data/documents/moorea/task-document-asociation.txt - processed.\n",
      "../data/documents/moorea/rating.txt - processed.\n",
      "../data/documents/moorea/componentes-solucion-backend.txt - processed.\n",
      "../data/documents/moorea/editing-or-erasing-tasks.txt - processed.\n",
      "../data/documents/moorea/monitoreo-stack-elk.txt - processed.\n",
      "../data/documents/moorea/Director de WebServices.pdf - processed.\n",
      "../data/documents/moorea/file-manager-structure.txt - processed.\n",
      "../data/documents/moorea/plugin-servicio-buscador.txt - processed.\n",
      "../data/documents/moorea/despliegue-ambientes.txt - processed.\n",
      "../data/documents/moorea/distribucion-fuente.txt - processed.\n",
      "../data/documents/moorea/grupos.txt - processed.\n",
      "../data/documents/moorea/monitoreo-clientes-k8s.txt - processed.\n",
      "../data/documents/moorea/componentes-solucion.txt - processed.\n",
      "../data/documents/moorea/combos.txt - processed.\n",
      "../data/documents/moorea/mongo-db-flows-config.txt - processed.\n",
      "../data/documents/moorea/index.txt - processed.\n",
      "../data/documents/moorea/procedures.txt - processed.\n",
      "../data/documents/moorea/checkbox.txt - processed.\n",
      "../data/documents/moorea/busqueda.txt - processed.\n",
      "../data/documents/moorea/texto-largo.txt - processed.\n",
      "../data/documents/moorea/subir-archivos.txt - processed.\n",
      "../data/documents/moorea/tasks-intro.txt - processed.\n",
      "../data/documents/moorea/hora.txt - processed.\n",
      "../data/documents/moorea/leyenda.txt - processed.\n",
      "../data/documents/moorea/DNU 70-2023.pdf - processed.\n",
      "../data/documents/moorea/bandeja-oficinas.txt - processed.\n",
      "../data/documents/moorea/plugin-servicio-combo.txt - processed.\n",
      "../data/documents/moorea/mongo-db-tasks.txt - processed.\n",
      "../data/documents/moorea/plugin-precarga.txt - processed.\n",
      "../data/documents/moorea/file-manager-intro.txt - processed.\n",
      "../data/documents/moorea/bandeja-usuarios.txt - processed.\n",
      "../data/documents/moorea/texto-corto.txt - processed.\n",
      "../data/documents/moorea/plugin-nodo-automatico.txt - processed.\n",
      "../data/documents/moorea/boton-buscar.txt - processed.\n",
      "../data/documents/moorea/bandeja-organica.txt - processed.\n",
      "../data/documents/moorea/actions.txt - processed.\n",
      "../data/documents/moorea/documents.txt - processed.\n",
      "../data/documents/moorea/bandeja-permisos.txt - processed.\n",
      "../data/documents/moorea/checklistbox.txt - processed.\n",
      "../data/documents/moorea/mongo-db-collections.txt - processed.\n",
      "../data/documents/moorea/decimal.txt - processed.\n",
      "../data/documents/moorea/organica.txt - processed.\n",
      "../data/documents/moorea/moneda.txt - processed.\n",
      "../data/documents/moorea/formularios.txt - processed.\n",
      "../data/documents/moorea/W4-GPODB - Documento de arquitectura del sistema - v1.0.pdf - processed.\n",
      "../data/documents/moorea/componentes-solucion-datos.txt - processed.\n",
      "../data/documents/moorea/flujos.txt - processed.\n",
      "../data/documents/moorea/fecha.txt - processed.\n",
      "../data/documents/moorea/plugin-evaluacion-pdf.txt - processed.\n",
      "../data/documents/moorea/task-definition.txt - processed.\n",
      "../data/documents/moorea/documentation.txt - processed.\n",
      "../data/documents/moorea/numero.txt - processed.\n",
      "../data/documents/moorea/expediente-electronico.txt - processed.\n",
      "../data/documents/moorea/flows-properties.txt - processed.\n",
      "../data/documents/moorea/introduccion.txt - processed.\n",
      "../data/documents/moorea/plugin-create-instance.txt - processed.\n",
      "../data/documents/moorea/plugin-actualizacion.txt - processed.\n",
      "../data/documents/moorea/Arquitectura de Referencia V01.1.pdf - processed.\n",
      "../data/documents/moorea/task-creation.txt - processed.\n",
      "../data/documents/moorea/intro-organica.txt - processed.\n",
      "../data/documents/moorea/servicios.txt - processed.\n",
      "../data/documents/moorea/imanager.txt - processed.\n"
     ]
    }
   ],
   "source": [
    "from helpers.docs import DocProcessor\n",
    "\n",
    "p = DocProcessor(\"../data/documents\", \"/mnt/docs\", \"http://localhost:10000/uploadDocument\", True)\n",
    "p.process()"
   ]
  },
  {
   "cell_type": "markdown",
   "id": "90ee31bb",
   "metadata": {},
   "source": [
    "## Reset Document Database\n",
    "\n",
    "**WARNING: RUNNING THIS NOTEBOOK WILL DELETE ALL INDEXED DOCUMENTS.**\n",
    "\n",
    "Run this notebook if you want to clear out your indexed documents and start over.\n",
    "\n",
    "After running this notebook, make adjustments to your dataset, upload in your documents again (via KB), and restart the `chat` app."
   ]
  },
  {
   "cell_type": "code",
   "execution_count": 5,
   "id": "7964f3ea",
   "metadata": {},
   "outputs": [
    {
     "data": {
      "text/plain": [
       "'{\"message\":\"Document database reset complete successfully\"}'"
      ]
     },
     "execution_count": 5,
     "metadata": {},
     "output_type": "execute_result"
    }
   ],
   "source": [
    "import requests\n",
    "\n",
    "r = requests.get(\"http://localhost:10000/documentDatabaseReset\")\n",
    "\n",
    "r.text"
   ]
  }
 ],
 "metadata": {
  "kernelspec": {
   "display_name": "Python 3 (ipykernel)",
   "language": "python",
   "name": "python3"
  },
  "language_info": {
   "codemirror_mode": {
    "name": "ipython",
    "version": 3
   },
   "file_extension": ".py",
   "mimetype": "text/x-python",
   "name": "python",
   "nbconvert_exporter": "python",
   "pygments_lexer": "ipython3",
   "version": "3.10.12"
  }
 },
 "nbformat": 4,
 "nbformat_minor": 5
}
